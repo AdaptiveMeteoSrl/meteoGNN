{
  "cells": [
    {
      "cell_type": "markdown",
      "metadata": {
        "id": "view-in-github",
        "colab_type": "text"
      },
      "source": [
        "<a href=\"https://colab.research.google.com/github/AdaptiveMeteoSrl/meteoGNN/blob/main/HyperBatchGNNEmanuele.ipynb\" target=\"_parent\"><img src=\"https://colab.research.google.com/assets/colab-badge.svg\" alt=\"Open In Colab\"/></a>"
      ]
    },
    {
      "cell_type": "code",
      "execution_count": 1,
      "metadata": {
        "id": "Ztj2c95Io7lg"
      },
      "outputs": [],
      "source": [
        "import numpy as np\n",
        "from math import sqrt\n",
        "from torch.utils.data import DataLoader\n",
        "import pandas as pd\n",
        "import torch\n",
        "import torch.nn as nn\n",
        "from torch import optim\n",
        "import os\n",
        "import time\n",
        "import pickle as pc\n",
        "\n",
        "from hyperopt import fmin, tpe, hp, Trials, STATUS_OK\n",
        "from functools import partial\n",
        "\n",
        "from sklearn.preprocessing import StandardScaler,MinMaxScaler\n",
        "import matplotlib.pyplot as plt\n",
        "import math\n",
        "import torch.nn.functional as F\n",
        "from torch.optim.lr_scheduler import ReduceLROnPlateau\n",
        "from torch.optim.lr_scheduler import StepLR\n",
        "import datetime\n",
        "\n",
        "\n",
        "class EarlyStopping:\n",
        "    def __init__(self, patience=7, verbose=False, delta=0):\n",
        "        self.patience = patience\n",
        "        self.verbose = verbose\n",
        "        self.counter = 0\n",
        "        self.best_score = None\n",
        "        self.early_stop = False\n",
        "        self.val_loss_min = np.Inf\n",
        "        self.delta = delta\n",
        "\n",
        "    def __call__(self, val_loss, model, path):\n",
        "        score = -val_loss\n",
        "        if self.best_score is None:\n",
        "            self.best_score = score\n",
        "            self.save_checkpoint(val_loss, model, path)\n",
        "        elif score < self.best_score + self.delta:\n",
        "            self.counter += 1\n",
        "            print(f'EarlyStopping counter: {self.counter} out of {self.patience}')\n",
        "            if self.counter >= self.patience:\n",
        "                self.early_stop = True\n",
        "        else:\n",
        "            self.best_score = score\n",
        "            self.save_checkpoint(val_loss, model, path)\n",
        "            self.counter = 0\n",
        "\n",
        "    def save_checkpoint(self, val_loss, model, path):\n",
        "        if self.verbose:\n",
        "            print(f'Validation loss decreased ({self.val_loss_min:.6f} --> {val_loss:.6f}).  Saving model ...')\n",
        "        torch.save(model.state_dict(), path + '/' + 'checkpoint.pth')\n",
        "        self.val_loss_min = val_loss\n",
        "\n",
        "def media_mobile(serie_dati, periodi):\n",
        "    medie_mobile = []\n",
        "    for i in range(len(serie_dati) - periodi + 1):\n",
        "        media = sum(serie_dati[i:i+periodi]) / periodi\n",
        "        medie_mobile.append(media)\n",
        "    return medie_mobile\n",
        "\n"
      ]
    },
    {
      "cell_type": "code",
      "execution_count": 2,
      "metadata": {
        "id": "qbMNZ8iKLPZ0"
      },
      "outputs": [],
      "source": [
        "from google.colab import drive"
      ]
    },
    {
      "cell_type": "code",
      "execution_count": 3,
      "metadata": {
        "colab": {
          "base_uri": "https://localhost:8080/"
        },
        "id": "0klENam7LU2u",
        "outputId": "27fd8a8e-4fe3-44b0-836d-82faa27d1962"
      },
      "outputs": [
        {
          "output_type": "stream",
          "name": "stdout",
          "text": [
            "Mounted at /content/gdrive/\n"
          ]
        }
      ],
      "source": [
        "drive.mount('/content/gdrive/', force_remount=True)"
      ]
    },
    {
      "cell_type": "code",
      "execution_count": 4,
      "metadata": {
        "id": "S2utcQfcLaX_"
      },
      "outputs": [],
      "source": [
        "da = pd.read_csv(\"/content/gdrive/MyDrive/GIGADATAFRAME.csv\")\n",
        "da['DATE'] = pd.to_datetime(da['DATE'])\n",
        "#da.set_index('DATE', inplace=True)\n"
      ]
    },
    {
      "cell_type": "code",
      "source": [
        "da['YEAR'] = da['DATE'].dt.year\n",
        "da['MONTH'] = da['DATE'].dt.month\n",
        "da['DAY'] = da['DATE'].dt.day\n",
        "da['HOUR'] = da['DATE'].dt.hour"
      ],
      "metadata": {
        "id": "57GSuOPgRjwB"
      },
      "execution_count": 5,
      "outputs": []
    },
    {
      "cell_type": "code",
      "source": [
        "#for i in range(5):\n",
        "  #da[\"TEMPERATURA_STA{}\".format(i)]=da[\"TEMP_STA{}\".format(i)]\n",
        "  #da.drop(columns=\"TEMP_STA{}\".format(i),inplace=True)"
      ],
      "metadata": {
        "id": "1n1c-A2hSmOE"
      },
      "execution_count": null,
      "outputs": []
    },
    {
      "cell_type": "code",
      "source": [
        "for i in range(5):\n",
        "  da.drop(columns=\"VELV_STA{}\".format(i),inplace=True)\n",
        "  da.drop(columns=\"DIRV_STA{}\".format(i),inplace=True)\n",
        "  da.drop(columns = \"ANGLE_STA{}\".format(i),inplace=True)"
      ],
      "metadata": {
        "id": "Wugg_VBZTOtP"
      },
      "execution_count": 6,
      "outputs": []
    },
    {
      "cell_type": "code",
      "source": [
        "da.rename(columns={\"PRESSIONE_STA4\":\"PRESS_STA4\"},inplace=True)"
      ],
      "metadata": {
        "id": "idYq0bKVTrYl"
      },
      "execution_count": 7,
      "outputs": []
    },
    {
      "cell_type": "code",
      "source": [
        "da.drop(columns=\"PRESS_STA0\",inplace=True)\n",
        "da.drop(columns=\"PRESS_STA1\",inplace=True)\n",
        "da.drop(columns=\"PRESS_STA2\",inplace=True)\n",
        "da.drop(columns=\"PRESS_STA4\",inplace=True)"
      ],
      "metadata": {
        "id": "iziyVXeaUK17"
      },
      "execution_count": 8,
      "outputs": []
    },
    {
      "cell_type": "code",
      "execution_count": 9,
      "metadata": {
        "colab": {
          "base_uri": "https://localhost:8080/"
        },
        "id": "Ms0-z_E9NJFu",
        "outputId": "a6c68523-bc5b-4bd3-c300-126d99991162"
      },
      "outputs": [
        {
          "output_type": "stream",
          "name": "stdout",
          "text": [
            "                      DATE  TEMP_STA0  TEMP_STA1  TEMP_STA2  TEMP_STA3  \\\n",
            "0      2017-12-31 23:00:00        0.4       -0.7       -0.5       -2.2   \n",
            "1      2017-12-31 23:10:00        0.4       -0.8       -0.5       -2.2   \n",
            "2      2017-12-31 23:20:00        0.5       -1.0       -0.4       -2.3   \n",
            "3      2017-12-31 23:30:00        0.6       -1.1       -0.6       -2.3   \n",
            "4      2017-12-31 23:40:00        0.5       -1.0       -0.6       -2.2   \n",
            "...                    ...        ...        ...        ...        ...   \n",
            "280683 2023-06-30 21:10:00       18.3       14.8       14.7        8.7   \n",
            "280684 2023-06-30 21:20:00       18.2       14.7       14.6        8.7   \n",
            "280685 2023-06-30 21:30:00       18.4       14.6       14.6        8.7   \n",
            "280686 2023-06-30 21:40:00       18.6       14.6       14.6        8.7   \n",
            "280687 2023-06-30 21:50:00       18.6       14.6       14.4        8.6   \n",
            "\n",
            "        TEMP_STA4  HUM_STA0  HUM_STA1  HUM_STA2  HUM_STA3  ...  PRO_X_STA4  \\\n",
            "0            -0.7      91.9      90.2      98.1      99.9  ...   -1.428641   \n",
            "1            -0.1      92.0      92.6      98.6      99.9  ...   -2.313131   \n",
            "2             0.0      91.8      94.0      98.4      99.9  ...   -1.188661   \n",
            "3            -0.2      90.6      94.7      99.1      99.9  ...   -0.397261   \n",
            "4            -0.3      91.2      95.1      99.2      99.9  ...   -1.363950   \n",
            "...           ...       ...       ...       ...       ...  ...         ...   \n",
            "280683       11.5      92.2      99.8     100.0      99.6  ...    0.986984   \n",
            "280684       11.5      93.0      99.8     100.0      99.7  ...    1.086457   \n",
            "280685       11.5      92.5      99.8      99.9      99.8  ...    0.991894   \n",
            "280686       11.4      93.1      99.8      99.9      99.9  ...    1.299612   \n",
            "280687       11.4      92.7      99.8      99.9      99.9  ...    1.492321   \n",
            "\n",
            "        PRO_Y_STA0  PRO_Y_STA1  PRO_Y_STA2    PRO_Y_STA3  PRO_Y_STA4  YEAR  \\\n",
            "0        -0.066964   -0.260157   -0.149575  4.976817e-01   -0.423183  2017   \n",
            "1         1.227706   -0.085888    0.007632  8.082669e-17   -0.676407  2017   \n",
            "2         0.590669    0.183066   -0.010139  1.589758e-01   -1.256974  2017   \n",
            "3         0.571708    0.195259    0.177309  2.703202e-01   -0.851929  2017   \n",
            "4         0.016720    0.033715    0.156449  4.341506e-01   -1.189849  2017   \n",
            "...            ...         ...         ...           ...         ...   ...   \n",
            "280683   -0.483188    0.598067   -0.799239 -0.000000e+00    0.485656  2023   \n",
            "280684    0.500331    0.490890   -0.073610 -0.000000e+00    0.172078  2023   \n",
            "280685    0.481452    0.578457    0.042265 -0.000000e+00   -0.127065  2023   \n",
            "280686    0.368997    0.391113    0.370988 -0.000000e+00   -0.031762  2023   \n",
            "280687    0.428935    0.597033    0.293335 -0.000000e+00    0.151584  2023   \n",
            "\n",
            "        MONTH  DAY  HOUR  \n",
            "0          12   31    23  \n",
            "1          12   31    23  \n",
            "2          12   31    23  \n",
            "3          12   31    23  \n",
            "4          12   31    23  \n",
            "...       ...  ...   ...  \n",
            "280683      6   30    21  \n",
            "280684      6   30    21  \n",
            "280685      6   30    21  \n",
            "280686      6   30    21  \n",
            "280687      6   30    21  \n",
            "\n",
            "[280688 rows x 25 columns]\n"
          ]
        }
      ],
      "source": [
        "#df.reset_index(inplace=True, drop=False)\n",
        "df = da\n",
        "print(df)"
      ]
    },
    {
      "cell_type": "code",
      "execution_count": 10,
      "metadata": {
        "id": "S26C54Pi5f8-"
      },
      "outputs": [],
      "source": [
        "co = df.columns[1:]\n",
        "from datetime import datetime, timedelta\n",
        "df = df.reset_index(drop=True)\n",
        "\n",
        "steps = 6  # Adjust this to your desired number of steps\n",
        "\n",
        "date_info = pd.DataFrame()\n",
        "# Create the new column by shifting the existing column\n",
        "date_info['PREV_M'] = df['MONTH'].shift(-steps)\n",
        "date_info[\"PREV_DAY\"] = df['DAY'].shift(-steps)\n",
        "date_info[\"PREV_H\"] = df['HOUR'].shift(-steps)\n",
        "\n",
        "# Fill the NaN values in the new column with a default value (e.g., 0)\n",
        "df[\"PREV_M\"] = date_info['PREV_M']\n",
        "df[\"PREV_DAY\"]=date_info[\"PREV_DAY\"]\n",
        "df[\"PREV_H\"] =date_info[\"PREV_H\"]\n",
        "\n",
        "# Print the resulting DataFrame\n",
        "df.drop(columns=\"YEAR\",inplace=True)\n",
        "df.drop(columns=\"MONTH\",inplace=True)\n",
        "df.drop(columns=\"DAY\",inplace=True)\n",
        "df.drop(columns=\"HOUR\",inplace=True)\n",
        "\n",
        "\n",
        "\n",
        "df = df.dropna()\n",
        "df.reset_index(inplace = True,drop=True)\n",
        "\n"
      ]
    },
    {
      "cell_type": "code",
      "source": [
        "\n",
        "# Extract station names\n",
        "station_names = [\"STA0\",\"STA1\",\"STA2\",\"STA3\",\"STA4\"]\n",
        "\n",
        "# Reorder the columns\n",
        "new_columns_order = [\"DATE\"]\n",
        "for station in station_names:\n",
        "    new_columns_order.extend([f'TEMP_{station}', f'HUM_{station}', f'PRO_X_{station}', f'PRO_Y_{station}'])\n",
        "\n",
        "df = df[new_columns_order]\n",
        "\n",
        "df[\"PREV_M\"] = date_info['PREV_M']\n",
        "df[\"PREV_DAY\"]=date_info[\"PREV_DAY\"]\n",
        "df[\"PREV_H\"] = date_info[\"PREV_H\"]\n",
        "\n"
      ],
      "metadata": {
        "colab": {
          "base_uri": "https://localhost:8080/"
        },
        "id": "IoIVPCE6NNfA",
        "outputId": "c87e6f8b-5bb0-4328-d034-81ffd365ded1"
      },
      "execution_count": 11,
      "outputs": [
        {
          "output_type": "stream",
          "name": "stderr",
          "text": [
            "<ipython-input-11-0f1ca8c41576>:11: SettingWithCopyWarning: \n",
            "A value is trying to be set on a copy of a slice from a DataFrame.\n",
            "Try using .loc[row_indexer,col_indexer] = value instead\n",
            "\n",
            "See the caveats in the documentation: https://pandas.pydata.org/pandas-docs/stable/user_guide/indexing.html#returning-a-view-versus-a-copy\n",
            "  df[\"PREV_M\"] = date_info['PREV_M']\n",
            "<ipython-input-11-0f1ca8c41576>:12: SettingWithCopyWarning: \n",
            "A value is trying to be set on a copy of a slice from a DataFrame.\n",
            "Try using .loc[row_indexer,col_indexer] = value instead\n",
            "\n",
            "See the caveats in the documentation: https://pandas.pydata.org/pandas-docs/stable/user_guide/indexing.html#returning-a-view-versus-a-copy\n",
            "  df[\"PREV_DAY\"]=date_info[\"PREV_DAY\"]\n"
          ]
        }
      ]
    },
    {
      "cell_type": "code",
      "source": [
        "print(df)"
      ],
      "metadata": {
        "colab": {
          "base_uri": "https://localhost:8080/"
        },
        "id": "Tt9GL1c0Npop",
        "outputId": "bb4116f0-8a42-4a78-f842-e8f06e3992c9"
      },
      "execution_count": null,
      "outputs": [
        {
          "output_type": "stream",
          "name": "stdout",
          "text": [
            "                      DATE  TEMP_STA0  HUM_STA0  PRO_X_STA0  PRO_Y_STA0  \\\n",
            "0      2017-12-31 23:00:00        0.4      91.9    0.404495   -0.066964   \n",
            "1      2017-12-31 23:10:00        0.4      92.0    0.283438    1.227706   \n",
            "2      2017-12-31 23:20:00        0.5      91.8    0.336912    0.590669   \n",
            "3      2017-12-31 23:30:00        0.6      90.6    0.097724    0.571708   \n",
            "4      2017-12-31 23:40:00        0.5      91.2    0.149065    0.016720   \n",
            "...                    ...        ...       ...         ...         ...   \n",
            "280676 2023-06-30 20:10:00       18.8      91.1   -0.891241   -0.125256   \n",
            "280677 2023-06-30 20:20:00       18.6      92.3   -1.315719   -0.720335   \n",
            "280678 2023-06-30 20:30:00       18.7      88.7   -0.401578   -0.805441   \n",
            "280679 2023-06-30 20:40:00       18.6      89.7   -0.256490   -0.757768   \n",
            "280680 2023-06-30 20:50:00       18.6      89.7   -0.427950    0.420546   \n",
            "\n",
            "        TEMP_STA1  HUM_STA1  PRO_X_STA1  PRO_Y_STA1  TEMP_STA2  ...  HUM_STA3  \\\n",
            "0            -0.7      90.2   -0.103529   -0.260157       -0.5  ...      99.9   \n",
            "1            -0.8      92.6   -0.411124   -0.085888       -0.5  ...      99.9   \n",
            "2            -1.0      94.0   -0.332997    0.183066       -0.4  ...      99.9   \n",
            "3            -1.1      94.7    0.043288    0.195259       -0.6  ...      99.9   \n",
            "4            -1.0      95.1    0.036923    0.033715       -0.6  ...      99.9   \n",
            "...           ...       ...         ...         ...        ...  ...       ...   \n",
            "280676       15.0      99.8    0.499993   -0.002618       15.1  ...      98.4   \n",
            "280677       15.1      99.8   -0.195341    0.567311       14.7  ...      98.8   \n",
            "280678       15.0      99.8   -0.126526    0.789931       14.6  ...      99.1   \n",
            "280679       14.9      99.8   -0.635587    1.247409       14.6  ...      99.3   \n",
            "280680       14.8      99.8   -0.313715    0.843554       14.7  ...      99.5   \n",
            "\n",
            "        PRO_X_STA3    PRO_Y_STA3  TEMP_STA4  HUM_STA4  PRO_X_STA4  PRO_Y_STA4  \\\n",
            "0        -0.737843  4.976817e-01       -0.7      99.3   -1.428641   -0.423183   \n",
            "1        -0.660000  8.082669e-17       -0.1      99.3   -2.313131   -0.676407   \n",
            "2        -0.254414  1.589758e-01        0.0      99.3   -1.188661   -1.256974   \n",
            "3        -0.189280  2.703202e-01       -0.2      99.3   -0.397261   -0.851929   \n",
            "4        -0.303996  4.341506e-01       -0.3      99.3   -1.363950   -1.189849   \n",
            "...            ...           ...        ...       ...         ...         ...   \n",
            "280676    0.000000 -0.000000e+00       11.8      99.9    1.955566   -0.419237   \n",
            "280677   -0.000000  0.000000e+00       11.7     100.0    1.102962   -0.472730   \n",
            "280678   -0.000000  0.000000e+00       11.6     100.0    0.995562    0.094108   \n",
            "280679   -0.024192 -9.702957e-02       11.4      99.8    1.584038    0.225442   \n",
            "280680    0.000000 -0.000000e+00       11.4      99.6    1.043394    0.592730   \n",
            "\n",
            "        PREV_M  PREV_DAY  PREV_H  \n",
            "0          1.0       1.0     0.0  \n",
            "1          1.0       1.0     0.0  \n",
            "2          1.0       1.0     0.0  \n",
            "3          1.0       1.0     0.0  \n",
            "4          1.0       1.0     0.0  \n",
            "...        ...       ...     ...  \n",
            "280676     6.0      30.0    21.0  \n",
            "280677     6.0      30.0    21.0  \n",
            "280678     6.0      30.0    21.0  \n",
            "280679     6.0      30.0    21.0  \n",
            "280680     6.0      30.0    21.0  \n",
            "\n",
            "[280681 rows x 24 columns]\n"
          ]
        }
      ]
    },
    {
      "cell_type": "code",
      "source": [
        "print(df.columns[-7])"
      ],
      "metadata": {
        "colab": {
          "base_uri": "https://localhost:8080/"
        },
        "id": "UxkwB8gRIUtc",
        "outputId": "873a3e06-ffa6-458f-a364-29a7aa9241d1"
      },
      "execution_count": null,
      "outputs": [
        {
          "output_type": "stream",
          "name": "stdout",
          "text": [
            "TEMP_STA4\n"
          ]
        }
      ]
    },
    {
      "cell_type": "code",
      "execution_count": 31,
      "metadata": {
        "colab": {
          "base_uri": "https://localhost:8080/"
        },
        "id": "oMoRqZvz5piW",
        "outputId": "bbc04e32-cd42-465b-e659-2427595af587"
      },
      "outputs": [
        {
          "output_type": "stream",
          "name": "stdout",
          "text": [
            "23\n"
          ]
        }
      ],
      "source": [
        "desired_interval = 24*6              #Intervallo di tempo senza dati mancanti che vogliamo; deve essere maggiore o uguale a seq_len+pred_len\n",
        "\n",
        "df[\"DATE\"]=pd.to_datetime(df[\"DATE\"])\n",
        "desired_duration = timedelta(days=1)\n",
        "good_starts = []\n",
        "for i in range(df.shape[0]-desired_interval):                                      #Creo vettore di indici buoni per selezionare sequenze senza salti\n",
        "  if df[\"DATE\"][i+desired_interval]-df[\"DATE\"][i] == desired_duration:\n",
        "    good_starts.append(df.index[i])\n",
        "#df = df.drop(columns=\"DATA_WDIR_STA4\")                                            #SE VUOI PREVEDERE IL VENTO VA COMMENTATA QUESTA RIGA\n",
        "fea = df.shape[1]-1\n",
        "print(fea)\n",
        "good_starts_train = good_starts[0:int(len(good_starts)*0.8)]                                    #Divido il vettore good_starts in indici iniziali di train e di validation\n",
        "good_starts_vali = good_starts[int(len(good_starts)*0.8):int(len(good_starts))]\n",
        "good_starts_vali = [l for l in good_starts_vali if l>(good_starts_train[-1]+desired_interval+1)] #Non voglio che train e validation si sovrappongano\n",
        "#for i in range(len(good_starts_vali)):\n",
        "  #good_starts_vali[i]= good_starts_vali[i]-good_starts_train[-1]-desired_interval-1\n",
        "import random\n",
        "shuffled_list = good_starts_train.copy()                                                        #Mischio il train\n",
        "random.shuffle(shuffled_list)\n",
        "tr = shuffled_list[0:64000]                                                                      #Scelgo un tot di indici da cui iniziare per le batch di train e un tot per validation\n",
        "va = good_starts_vali[0:20000]                                                                   #Visto che altrimenti il train impiegherebbe giorni\n",
        "gs=[tr,va]                                                                                      #Nel dataloader.train selezionerò il primo array di indici per scegliere indici (gs[0])\n",
        "\n"
      ]
    },
    {
      "cell_type": "code",
      "execution_count": 13,
      "metadata": {
        "id": "lW0P1PJ6qFJd"
      },
      "outputs": [],
      "source": [
        "class Dataset():#'forecasting task, options:[M, S, MS]; M:multivariate predict multivariate, S:univariate predict univariate, MS:multivariate predict univariate')\n",
        "    def __init__(self, root_path=None, flag='train', size=None,\n",
        "                 features='MS',target='target', scale=True, timeenc=0, freq='10m'):\n",
        "\n",
        "        # size [seq_len, label_len, pred_len]\n",
        "        # info\n",
        "        if size == None:\n",
        "            print(\"size è none. Forse ci sono problemi\")\n",
        "        else:\n",
        "            self.seq_len = size[0]\n",
        "            self.label_len = size[1]\n",
        "            self.pred_len = size[2]\n",
        "        # init\n",
        "        assert flag in ['train', 'val']\n",
        "        type_map = {'train': 0, 'val': 1}\n",
        "        self.set_type = type_map[flag]\n",
        "\n",
        "        self.features = features\n",
        "        self.target = target\n",
        "        self.scale = scale\n",
        "        self.timeenc = timeenc\n",
        "        self.freq = freq\n",
        "        self.root_path = root_path\n",
        "        self.__read_data__()\n",
        "\n",
        "    def __read_data__(self):\n",
        "        self.scaler = StandardScaler()\n",
        "        df_raw = df\n",
        "\n",
        "        border1s = [0, 0]\n",
        "        border2s = [df_raw.shape[0], df_raw.shape[0]]\n",
        "        border1 = border1s[self.set_type]\n",
        "        border2 = border2s[self.set_type]\n",
        "\n",
        "\n",
        "        if self.features == 'M' or self.features == 'MS':\n",
        "            cols_data = df_raw.columns[1:]\n",
        "            df_data = df_raw[cols_data]\n",
        "\n",
        "        elif self.features == 'S':\n",
        "            df_data = df_raw[[self.target]]\n",
        "\n",
        "        if self.scale:\n",
        "            stop_index = good_starts_train[-1]+desired_interval\n",
        "            train_data = df_data.iloc[:stop_index + 1]\n",
        "            self.scaler.fit(train_data.values)\n",
        "            data = self.scaler.transform(df_data.values)\n",
        "            self.scaler.fit(train_data['TEMP_STA4'].values.reshape(-1, 1))\n",
        "            #data=data.values\n",
        "        else:\n",
        "            data = df_data.values\n",
        "\n",
        "        self.data_x = data[border1:border2]\n",
        "        self.data_y = data[border1:border2]\n",
        "\n",
        "\n",
        "    def __getitem__(self, index):\n",
        "        s_begin = index\n",
        "        s_end = s_begin + self.seq_len\n",
        "        seq_x = self.data_x[s_begin:s_end]\n",
        "        seq_y = self.data_y[s_begin:s_end+self.pred_len]\n",
        "\n",
        "        return seq_x,seq_y\n",
        "\n",
        "    def __len__(self):\n",
        "        return len(self.data_x) - self.seq_len - self.pred_len + 1\n",
        "\n",
        "    def inverse_transform(self, data):\n",
        "        return self.scaler.inverse_transform(data)\n",
        "\n",
        "\n",
        "class Dataset_Pred(Dataset):\n",
        "    def __init__(self, root_path=None, flag='train', size=None,\n",
        "                 features='MS',\n",
        "                 target='target', scale=True, timeenc=0, freq='10m'):\n",
        "        if size == None:\n",
        "            self.seq_len = 20\n",
        "            self.label_len = 0\n",
        "            self.pred_len = 6\n",
        "\n",
        "        else:\n",
        "            self.seq_len = size[0]\n",
        "            self.label_len = size[1]\n",
        "            self.pred_len = size[2]\n",
        "        # init\n",
        "        assert flag in ['pred']\n",
        "\n",
        "        self.features = features\n",
        "        self.target = target\n",
        "        self.scale = \"False\"\n",
        "        self.timeenc = timeenc\n",
        "        self.freq = freq\n",
        "        self.__read_data__()\n",
        "\n",
        "    def __read_data__(self):\n",
        "        self.scaler = StandardScaler()\n",
        "        df_raw = df\n",
        "        border1 = len(df_raw) - self.seq_len\n",
        "        border2 = len(df_raw)\n",
        "\n",
        "        if self.features == 'M' or self.features == 'MS':\n",
        "            cols_data = df_raw.columns[1:]\n",
        "            df_data = df_raw[cols_data]\n",
        "        elif self.features == 'S':\n",
        "            df_data = df_raw[[self.target]]\n",
        "\n",
        "        if self.scale:\n",
        "            self.scaler.fit(df_data.values)\n",
        "            data = self.scaler.transform(df_data.values)\n",
        "            self.scaler.fit(df_data['TEMP_STA4'].values.reshape(-1, 1))\n",
        "            data=data.values\n",
        "        else:\n",
        "            data = df_data.values\n",
        "        tmp_stamp = df_raw[['DATE']][border1:border2]\n",
        "        tmp_stamp['DATE'] = pd.to_datetime(tmp_stamp[\"DATE\"])\n",
        "        pred_dates = pd.date_range(tmp_stamp.Date.values[-1], periods=self.pred_len + 1, freq=self.freq)\n",
        "        df_stamp = pd.DataFrame(columns=['DATE'])\n",
        "        df_stamp.DATE = list(tmp_stamp.DATE.values) + list(pred_dates[1:])\n",
        "        if self.timeenc == 0:\n",
        "            df_stamp['month'] = df_stamp[\"DATE\"].apply(lambda row: row.month, 1)\n",
        "            df_stamp['minute'] = df_stamp[\"DATE\"].apply(lambda row: row.minute, 10)\n",
        "            df_stamp['hour'] = df_stamp[\"DATE\"].apply(lambda row: row.hour, 1)\n",
        "            data_stamp = df_stamp.drop(labels=['DATE'], axis=1).values\n",
        "            print(df_stamp)\n",
        "            data_stamp = df_stamp.drop(labels=['DATE'], axis=1).values\n",
        "        elif self.timeenc == 1:\n",
        "            data_stamp = time_features(pd.to_datetime(df_stamp['DATE'].values), freq=self.freq)\n",
        "            data_stamp = data_stamp.transpose(1, 0)\n",
        "\n",
        "        self.data_x = data[border1:border2]\n",
        "\n",
        "        self.data_y = data[border1:border2]\n",
        "        self.data_stamp = data_stamp\n",
        "\n",
        "    def __getitem__(self, index):\n",
        "        s_begin = index\n",
        "        s_end = s_begin + self.seq_len\n",
        "        r_begin = s_end - self.label_len\n",
        "        r_end = r_begin + self.label_len + self.pred_len\n",
        "\n",
        "        seq_x = self.data_x[s_begin:s_end]\n",
        "        seq_y = self.data_y[r_begin:r_begin + self.label_len]\n",
        "        #seq_x_mark = self.data_stamp[s_begin:s_end]\n",
        "        #seq_y_mark = self.data_stamp[r_begin:r_end]\n",
        "        return seq_x, seq_y#, seq_x_mark, seq_y_mark\n",
        "\n",
        "    def __len__(self):\n",
        "        return len(self.data_x) - self.seq_len + 1\n",
        "\n",
        "    def inverse_transform(self, data):\n",
        "        return self.scaler.inverse_transform(data)\n"
      ]
    },
    {
      "cell_type": "code",
      "source": [
        "\n",
        "def make_adj_station(seq_len, n_nodes):\n",
        "  adj = np.ones(shape=(n_nodes,n_nodes), dtype=np.float32)\n",
        "  for i in range (n_nodes):\n",
        "    adj[i][i]=0\n",
        "  #ad = np.array([adj]*seq_len)\n",
        "  ad = torch.from_numpy(adj)\n",
        "  return(ad)\n",
        "\n",
        "sta_ad = make_adj_station(1, 5)\n"
      ],
      "metadata": {
        "id": "2JivmFHoeGdf"
      },
      "execution_count": 14,
      "outputs": []
    },
    {
      "cell_type": "code",
      "source": [
        "print(sta_ad)"
      ],
      "metadata": {
        "colab": {
          "base_uri": "https://localhost:8080/"
        },
        "id": "UARvPeTJ2GGp",
        "outputId": "cc3105e6-82a1-4b46-beff-5893b79e8fa6"
      },
      "execution_count": 15,
      "outputs": [
        {
          "output_type": "stream",
          "name": "stdout",
          "text": [
            "tensor([[0., 1., 1., 1., 1.],\n",
            "        [1., 0., 1., 1., 1.],\n",
            "        [1., 1., 0., 1., 1.],\n",
            "        [1., 1., 1., 0., 1.],\n",
            "        [1., 1., 1., 1., 0.]])\n"
          ]
        }
      ]
    },
    {
      "cell_type": "code",
      "execution_count": 18,
      "metadata": {
        "id": "l6_exnKmC81Z"
      },
      "outputs": [],
      "source": [
        "from torch.nn.parameter import Parameter\n",
        "import torch.nn as nn\n",
        "import torch.nn.functional as F\n",
        "import torch.nn.init as init\n",
        "\n",
        "class Basic_Graph_Conv(nn.Module):\n",
        "  def __init__(self, in_feat, out_feat):\n",
        "    super(Basic_Graph_Conv, self).__init__()\n",
        "    self.in_feat = in_feat\n",
        "    self.out_feat = out_feat\n",
        "    self.W2 = Parameter(torch.rand((in_feat, out_feat), dtype=torch.float32))\n",
        "    #self.W2 = nn.Parameter(torch.empty(*(in_feat, out_feat)))\n",
        "    #init.normal_(self.W2, mean=0.0, std=0.1)\n",
        "    self.W1 = Parameter(torch.rand((in_feat, out_feat), dtype=torch.float32))\n",
        "    self.bias = Parameter(torch.zeros(out_feat, dtype=torch.float32))\n",
        "\n",
        "\n",
        "\n",
        "  def forward(self, X, A):\n",
        "    x = torch.mm(X,self.W2)\n",
        "    x = torch.mm(A,x)\n",
        "    root = torch.mm(X,self.W1)\n",
        "    out = x + root + self.bias\n",
        "    return out"
      ]
    },
    {
      "cell_type": "code",
      "source": [
        "class NodeNetwork(torch.nn.Module):\n",
        "\n",
        "    def __init__(self, input_features):\n",
        "        super().__init__()\n",
        "\n",
        "        # network architecture: two graph convolutional layers\n",
        "        self.conv_1 = Basic_Graph_Conv(1, 16)# this is the graph conv\n",
        "        self.conv_2 = Basic_Graph_Conv(16, 1)\n",
        "        self.LSTM = nn.LSTM(input_size= 21, num_layers=2, hidden_size = 32, batch_first=True)\n",
        "        self.conv_3 = Basic_Graph_Conv(4, 16)\n",
        "        self.conv_4 = Basic_Graph_Conv(16,4)\n",
        "\n",
        "        # followed by an MLP\n",
        "        self.fc_1 = torch.nn.Linear(32, 64)\n",
        "        self.fc_2 = torch.nn.Linear(64, 20)\n",
        "\n",
        "    def forward(self, X, A, STA):\n",
        "\n",
        "      x = X[:,:,:-3]\n",
        "      t = X[:,:,-1:]\n",
        "      t = t.reshape(X.shape[0],X.shape[1], 1)\n",
        "      x = x.reshape(X.shape[0],-1, 1)\n",
        "\n",
        "      h = torch.empty(0,X.shape[1]*20,1,requires_grad=True)\n",
        "      for i in range(X.shape[0]):\n",
        "        h_x = (self.conv_1(x[i],A))\n",
        "        h_y = (self.conv_2(h_x,A))\n",
        "        h_y = h_y.reshape(1,-1,1)\n",
        "        h = torch.cat((h,h_y),dim=0)\n",
        "      y_x = h.reshape(X.shape[0],X.shape[1],5,4)\n",
        "\n",
        "      #y_x = torch.empty(64,20,5,4)\n",
        "      #z_x = torch.empty(64,20,5,16)\n",
        "      #for i in range(z_x.shape[0]):\n",
        "        #for j in range(z_x.shape[1]):\n",
        "          #z_x[i][j] = self.conv_3(x[i][j],STA)\n",
        "          #y_x[i][j] = self.conv_4(z_x[i][j],STA)\n",
        "      #y_x = x.reshape(64,20,-1)\n",
        "\n",
        "\n",
        "      y_x = y_x.reshape(X.shape[0],20,-1)\n",
        "      a_x = torch.cat((t,y_x),dim=2)\n",
        "      r_x, _ = self.LSTM(a_x)\n",
        "      r_x = r_x[:,-1, :]\n",
        "      r_x = self.fc_1(r_x)\n",
        "      r_x = self.fc_2(r_x)\n",
        "\n",
        "\n",
        "      b = torch.empty(0,5,4,requires_grad = True)\n",
        "      r_x = r_x.view(X.shape[0],5,4)\n",
        "\n",
        "      for k in range(X.shape[0]):\n",
        "        b_x = (self.conv_3(r_x[k],STA))\n",
        "        b_y = (self.conv_4(b_x,STA))\n",
        "        b_y = b_y.reshape(1,5,4)\n",
        "        b = torch.cat((b,b_y),dim=0)\n",
        "\n",
        "      output = b.view(X.shape[0],-1,1)\n",
        "      output = output[:,-4,:]\n",
        "      output = output.reshape(X.shape[0])\n",
        "\n",
        "\n",
        "        # input the pooled representation to a MLP that classify the event\n",
        "\n",
        "      return output"
      ],
      "metadata": {
        "id": "_5qSg7eg1HYo"
      },
      "execution_count": 19,
      "outputs": []
    },
    {
      "cell_type": "code",
      "source": [
        "num_stations = 5\n",
        "num_features_per_station = 4\n",
        "num_features_total = num_stations * num_features_per_station\n",
        "num_timestamp_columns = 0\n",
        "\n",
        "# Initialize an empty adjacency matrix with zeros\n",
        "adjacency_matrix = torch.zeros((num_features_total + num_timestamp_columns, num_features_total + num_timestamp_columns), dtype=int)\n",
        "\n",
        "# Define connections between features of each station\n",
        "for station in range(num_stations):\n",
        "    start_idx = station * num_features_per_station\n",
        "    end_idx = start_idx + num_features_per_station\n",
        "    adjacency_matrix[start_idx:end_idx, start_idx:end_idx] = 1  # Features of each station connected to each other\n",
        "\n",
        "# Define connections from timestamps to features\n",
        "# Timestamps influence features but not the other way around\n",
        "adjacency_matrix[num_features_total:, :num_features_total] = 1\n",
        "\n",
        "i = 13  # Replace this with the index of the feature you want to drop\n",
        "\n",
        "# Drop the i-th row and column from the adjacency matrix\n",
        "\n",
        "# Print the adjacency matrix (for illustration)\n",
        "\n",
        "\n",
        "for i in range(adjacency_matrix.shape[0]):\n",
        "    adjacency_matrix[i, i] = 0\n",
        "\n",
        "print(adjacency_matrix)\n",
        "\n",
        "initial_matrix = adjacency_matrix\n",
        "seq_len = 20\n",
        "\n",
        "# Calculate the dimensions of the resulting block matrix\n",
        "block_matrix_size = seq_len * initial_matrix.size(0)\n",
        "\n",
        "# Initialize the block matrix with zeros\n",
        "block_matrix = torch.zeros(block_matrix_size, block_matrix_size)\n",
        "\n",
        "# Fill the diagonal blocks with the initial matrix\n",
        "for i in range(seq_len):\n",
        "    start_row = i * initial_matrix.size(0)\n",
        "    end_row = (i + 1) * initial_matrix.size(0)\n",
        "    block_matrix[start_row:end_row, start_row:end_row] = initial_matrix\n",
        "\n",
        "# Print the resulting block matrix\n",
        "ad = block_matrix\n",
        "\n",
        "# Print the adjacency matrix\n",
        "print(ad.shape)\n"
      ],
      "metadata": {
        "colab": {
          "base_uri": "https://localhost:8080/"
        },
        "id": "AE-WlLQBaliV",
        "outputId": "c7536f69-405c-40d6-e068-1659b9394353"
      },
      "execution_count": 20,
      "outputs": [
        {
          "output_type": "stream",
          "name": "stdout",
          "text": [
            "tensor([[0, 1, 1, 1, 0, 0, 0, 0, 0, 0, 0, 0, 0, 0, 0, 0, 0, 0, 0, 0],\n",
            "        [1, 0, 1, 1, 0, 0, 0, 0, 0, 0, 0, 0, 0, 0, 0, 0, 0, 0, 0, 0],\n",
            "        [1, 1, 0, 1, 0, 0, 0, 0, 0, 0, 0, 0, 0, 0, 0, 0, 0, 0, 0, 0],\n",
            "        [1, 1, 1, 0, 0, 0, 0, 0, 0, 0, 0, 0, 0, 0, 0, 0, 0, 0, 0, 0],\n",
            "        [0, 0, 0, 0, 0, 1, 1, 1, 0, 0, 0, 0, 0, 0, 0, 0, 0, 0, 0, 0],\n",
            "        [0, 0, 0, 0, 1, 0, 1, 1, 0, 0, 0, 0, 0, 0, 0, 0, 0, 0, 0, 0],\n",
            "        [0, 0, 0, 0, 1, 1, 0, 1, 0, 0, 0, 0, 0, 0, 0, 0, 0, 0, 0, 0],\n",
            "        [0, 0, 0, 0, 1, 1, 1, 0, 0, 0, 0, 0, 0, 0, 0, 0, 0, 0, 0, 0],\n",
            "        [0, 0, 0, 0, 0, 0, 0, 0, 0, 1, 1, 1, 0, 0, 0, 0, 0, 0, 0, 0],\n",
            "        [0, 0, 0, 0, 0, 0, 0, 0, 1, 0, 1, 1, 0, 0, 0, 0, 0, 0, 0, 0],\n",
            "        [0, 0, 0, 0, 0, 0, 0, 0, 1, 1, 0, 1, 0, 0, 0, 0, 0, 0, 0, 0],\n",
            "        [0, 0, 0, 0, 0, 0, 0, 0, 1, 1, 1, 0, 0, 0, 0, 0, 0, 0, 0, 0],\n",
            "        [0, 0, 0, 0, 0, 0, 0, 0, 0, 0, 0, 0, 0, 1, 1, 1, 0, 0, 0, 0],\n",
            "        [0, 0, 0, 0, 0, 0, 0, 0, 0, 0, 0, 0, 1, 0, 1, 1, 0, 0, 0, 0],\n",
            "        [0, 0, 0, 0, 0, 0, 0, 0, 0, 0, 0, 0, 1, 1, 0, 1, 0, 0, 0, 0],\n",
            "        [0, 0, 0, 0, 0, 0, 0, 0, 0, 0, 0, 0, 1, 1, 1, 0, 0, 0, 0, 0],\n",
            "        [0, 0, 0, 0, 0, 0, 0, 0, 0, 0, 0, 0, 0, 0, 0, 0, 0, 1, 1, 1],\n",
            "        [0, 0, 0, 0, 0, 0, 0, 0, 0, 0, 0, 0, 0, 0, 0, 0, 1, 0, 1, 1],\n",
            "        [0, 0, 0, 0, 0, 0, 0, 0, 0, 0, 0, 0, 0, 0, 0, 0, 1, 1, 0, 1],\n",
            "        [0, 0, 0, 0, 0, 0, 0, 0, 0, 0, 0, 0, 0, 0, 0, 0, 1, 1, 1, 0]])\n",
            "torch.Size([400, 400])\n"
          ]
        }
      ]
    },
    {
      "cell_type": "code",
      "execution_count": 21,
      "metadata": {
        "id": "ncMo7ZYcslKO"
      },
      "outputs": [],
      "source": [
        "class DNNModel(object):\n",
        "    def __init__(self,batch_size,epochs_early_stopping=20):\n",
        "        self.embed='fixed'\n",
        "        self.batch_size=16\n",
        "        self.freq='10m'\n",
        "        self.num_workers=0\n",
        "        self.pred_len=6\n",
        "        self.label_len=0\n",
        "        self.seq_len= 20\n",
        "        self.n_features=20\n",
        "        self.nodes= self.seq_len * self.n_features\n",
        "        self.model = self._build_model()\n",
        "        self.use_amp=False\n",
        "        self.train_epochs=20\n",
        "        self.features='MS'\n",
        "        self.output_attention=True\n",
        "        self.device = \"cpu\"#torch.device(\"cuda\" if torch.cuda.is_available() else \"cpu\")\n",
        "        self.checkpoints='./checkpoints/'\n",
        "        self.lr=0.001\n",
        "\n",
        "\n",
        "    def data_provider(self,flag):\n",
        "        data_dict = {\n",
        "            'ETTh1': Dataset\n",
        "        }\n",
        "        Data = data_dict['ETTh1']\n",
        "        timeenc = 0 if self.embed == 'timeF' else 1\n",
        "        if flag == 'val':\n",
        "\n",
        "            v_s = 1\n",
        "            shuffle_flag = False\n",
        "            drop_last = True\n",
        "            batch_size =  1\n",
        "            freq = self.freq\n",
        "        else:\n",
        "\n",
        "            v_s = 0\n",
        "            shuffle_flag=True\n",
        "            drop_last = True\n",
        "            batch_size = 16\n",
        "            freq = self.freq\n",
        "\n",
        "        data_set = Data(\n",
        "            flag=flag,\n",
        "            size=[self.seq_len, self.label_len,self.pred_len],\n",
        "            freq=self.freq\n",
        "        )\n",
        "\n",
        "\n",
        "        print(flag, len(data_set))\n",
        "        data_loader = DataLoader(\n",
        "            data_set,\n",
        "            batch_size=batch_size,\n",
        "            num_workers=self.num_workers,\n",
        "            drop_last=drop_last,\n",
        "            sampler = SpecificIndicesSampler(gs[v_s]))\n",
        "        return data_set, data_loader\n",
        "\n",
        "    def _build_model(self):\n",
        "\n",
        "        model = NodeNetwork(input_features = self.nodes)\n",
        "        return model\n",
        "\n",
        "    def _select_optimizer(self):\n",
        "        model_optim = optim.Adam(self.model.parameters(), lr=self.lr)\n",
        "        return model_optim\n",
        "\n",
        "    def _select_criterion(self):\n",
        "        criterion = nn.MSELoss()#nn.MSELoss()#nn.CrossEntropyLoss()#nn.BCELoss()#nn.BCEWithLogitsLoss() #nn.NLLLoss()#nn.HuberLoss(reduction='mean', delta=1.0)#nn.MSELoss()#nn.BCELoss()#nn.L1Loss()#nn.HuberLoss(reduction='mean', delta=1.0)#nn.MSELoss()#nn.HuberLoss(reduction='mean', delta=1.0)#nn.MSELoss()\n",
        "        return criterion\n",
        "\n",
        "    def _get_data(self, flag):\n",
        "        data_set, data_loader = self.data_provider(flag)\n",
        "        return data_set, data_loader\n",
        "\n",
        "    def vali(self, vali_data, vali_loader, criterion):\n",
        "        total_loss = []\n",
        "        self.model.eval()\n",
        "        with torch.no_grad():\n",
        "          for i, (batch_x,batch_y) in enumerate(vali_loader):\n",
        "            batch_x = batch_x.float().to(self.device)\n",
        "            #batch_x = batch_x.float().view(20,20,1).to(self.device)\n",
        "            batch_y = batch_y.float().to(self.device)\n",
        "            outputs = self.model(batch_x.to(self.device),ad.to(self.device),sta_ad.to(self.device))\n",
        "            outputs = outputs.to(self.device)\n",
        "            batch_y = batch_y[:,-1,-7].to(self.device)\n",
        "\n",
        "\n",
        "            pred = outputs.detach().cpu()\n",
        "            true = batch_y.detach().cpu()\n",
        "\n",
        "            loss = torch.nn.functional.l1_loss(pred, true)\n",
        "            total_loss.append(loss)\n",
        "\n",
        "        total_loss = np.average(total_loss)\n",
        "\n",
        "        return total_loss\n",
        "\n",
        "\n",
        "    def train(self,setting):\n",
        "\n",
        "        self.model.to(self.device)\n",
        "        self.model.train()\n",
        "        train_data, train_loader = self._get_data(flag='train')\n",
        "        vali_data, vali_loader = self._get_data(flag='val')\n",
        "        #test_data, test_loader = self._get_data(flag='test')\n",
        "\n",
        "        path = os.path.join(self.checkpoints, setting)\n",
        "        if not os.path.exists(path):\n",
        "            os.makedirs(path)\n",
        "\n",
        "        #time_now = time.time()\n",
        "\n",
        "        train_steps = len(train_loader)\n",
        "        early_stopping = EarlyStopping(patience=100, verbose=True)\n",
        "\n",
        "        model_optim = self._select_optimizer()\n",
        "        criterion = self._select_criterion()\n",
        "        #scheduler = StepLR(model_optim, step_size = 5, gamma = 0.15)\n",
        "        scheduler = ReduceLROnPlateau(model_optim, mode='min', patience=3, factor=0.3, verbose=False)\n",
        "        if self.use_amp:\n",
        "            scaler = torch.cuda.amp.GradScaler()\n",
        "\n",
        "        for epoch in range(self.train_epochs):\n",
        "            iter_count = 0\n",
        "            train_loss = []\n",
        "            self.model.train()\n",
        "            #epoch_time = time.time()\n",
        "            for i, (batch_x, batch_y) in enumerate(train_loader):\n",
        "                iter_count += 1\n",
        "                model_optim.zero_grad()\n",
        "                #batch_x = batch_x.float().view(20,20,1).to(self.device)\n",
        "\n",
        "                batch_x = batch_x.float().to(self.device)\n",
        "                batch_y = batch_y.float().to(self.device)\n",
        "\n",
        "                outputs = self.model(batch_x.to(self.device),ad.to(self.device),sta_ad.to(self.device))\n",
        "\n",
        "\n",
        "\n",
        "                outputs = outputs.to(self.device)\n",
        "                batch_y = batch_y[:,-1,-7].to(self.device)\n",
        "                batch_y = batch_y.to(self.device)\n",
        "\n",
        "                #print(\"Outputs:\", outputs.shape)\n",
        "                #print(\"Targets:\", batch_y.shape)\n",
        "                loss = criterion(outputs, batch_y)\n",
        "                train_loss.append(loss.item())\n",
        "                #print(\"fine\")\n",
        "                if (i + 1) % 100 == 0:\n",
        "                    #print(\"\\titers: {0}, epoch: {1} | loss: {2:.7f}\".format(i + 1, epoch + 1, loss.item()))\n",
        "                    #speed = (time.time() - time_now) / iter_count\n",
        "                    #left_time = speed * ((self.train_epochs - epoch) * train_steps - i)\n",
        "                    #print('\\tspeed: {:.4f}s/iter; left time: {:.4f}s'.format(speed, left_time))\n",
        "                    iter_count = 0\n",
        "                    #time_now = time.time()\n",
        "\n",
        "                if self.use_amp:\n",
        "                    scaler.scale(loss).backward()\n",
        "                    scaler.step(model_optim)\n",
        "                    scaler.update()\n",
        "                else:\n",
        "                    loss.backward()\n",
        "                    model_optim.step()\n",
        "\n",
        "            print(\"Epoch: {}\".format(epoch + 1))\n",
        "            train_loss = np.average(train_loss)\n",
        "            vali_loss= self.vali(vali_data, vali_loader, criterion)\n",
        "\n",
        "            #scheduler.step()\n",
        "            scheduler.step(vali_loss)\n",
        "            #test_loss = self.vali(test_data, test_loader, criterion)\n",
        "\n",
        "            #print(\"Epoch: {0}, Steps: {1} | Train Loss: {2:.7f} Vali Loss: {3:.7f} Test Loss: {4:.7f}\".format(\n",
        "            #    epoch + 1, train_steps, train_loss, vali_loss, test_loss))\n",
        "            print(\"Epoch: {0}, Steps: {1} | Train Loss: {2:.7f} Vali Loss: {3:.7f}\".format(\n",
        "                epoch + 1, train_steps, train_loss, vali_loss))\n",
        "            early_stopping(vali_loss, self.model, path)\n",
        "            if early_stopping.early_stop:\n",
        "                print(\"Early stopping\")\n",
        "                break\n",
        "\n",
        "        best_model_path = path + '/' + 'checkpoint.pth'\n",
        "        self.model.load_state_dict(torch.load(best_model_path))\n",
        "        return self.model\n",
        "\n",
        "\n",
        "\n",
        "\n",
        "    def vali_test(self, setting, test=True):\n",
        "        test_data, test_loader = self._get_data(flag='val')\n",
        "        if test:\n",
        "            print('loading model')\n",
        "            self.model.load_state_dict(torch.load(os.path.join('./checkpoints/' + setting, 'checkpoint.pth')))\n",
        "\n",
        "        preds = []\n",
        "        trues = []\n",
        "        folder_path = './test_results/' + setting + '/'\n",
        "        if not os.path.exists(folder_path):\n",
        "            os.makedirs(folder_path)\n",
        "\n",
        "        self.model.eval()\n",
        "        with torch.no_grad():\n",
        "            for i, (batch_x, batch_y) in enumerate(test_loader):\n",
        "              #batch_x = batch_x.float().view(20,20,1)\n",
        "              batch_x = batch_x.float()\n",
        "              batch_y = batch_y.float()\n",
        "              outputs = self.model(batch_x,ad,sta_ad)\n",
        "\n",
        "              batch_y = batch_y[:, -1, -7]\n",
        "              #outputs =torch.argmax(outputs, dim=1)\n",
        "              batch_y = batch_y\n",
        "              outputs = outputs.detach().numpy()\n",
        "              batch_y = batch_y.detach().numpy()\n",
        "              pred = outputs  # outputs.detach().cpu().numpy()  # .squeeze()\n",
        "              true = batch_y  # batch_y.detach().cpu().numpy()  # .squeeze()\n",
        "              preds.append(pred)\n",
        "              trues.append(true)\n",
        "\n",
        "\n",
        "        preds = np.array(preds)\n",
        "        trues = np.array(trues)\n",
        "        print('test shape:', preds.shape, trues.shape)\n",
        "        preds = preds.reshape(-1, preds.shape[-1])\n",
        "        trues = trues.reshape(-1, trues.shape[-2], trues.shape[-1])\n",
        "        print('test shape:', preds.shape, trues.shape)\n",
        "\n",
        "        # result save\n",
        "        folder_path = './results/' + setting + '/'\n",
        "        if not os.path.exists(folder_path):\n",
        "            os.makedirs(folder_path)\n",
        "\n",
        "        return preds,trues"
      ]
    },
    {
      "cell_type": "code",
      "source": [],
      "metadata": {
        "id": "90B7x5HdKTPd"
      },
      "execution_count": null,
      "outputs": []
    },
    {
      "cell_type": "code",
      "execution_count": 22,
      "metadata": {
        "id": "j3qq8Zsk9q-w"
      },
      "outputs": [],
      "source": [
        "from torch.utils.data import Sampler\n",
        "\n",
        "class SpecificIndicesSampler(Sampler):\n",
        "    def __init__(self, indices):\n",
        "        self.indices = indices\n",
        "\n",
        "    def __iter__(self):\n",
        "        return iter(self.indices)\n",
        "\n",
        "    def __len__(self):\n",
        "        return len(self.indices)\n"
      ]
    },
    {
      "cell_type": "code",
      "execution_count": 23,
      "metadata": {
        "id": "Gh8bdZAjs28Q"
      },
      "outputs": [],
      "source": [
        "def _build_space():\n",
        "    space = {\n",
        "        'batch_size': 500 #hp.quniform('batch_size',100,101,1),\n",
        "        }\n",
        "    return space\n",
        "\n",
        "\n",
        "\n",
        "def _hyperopt_objective(hyperparameters, trials, trials_file_path, max_evals):\n",
        "\n",
        "    #print(hyperparameters)\n",
        "\n",
        "\n",
        "    pc.dump(trials, open(trials_file_path, \"wb\"))\n",
        "    setting = '{}'.format('EMANUELE')\n",
        "\n",
        "    forecaster = DNNModel(\n",
        "        batch_size=int(hyperparameters['batch_size'])\n",
        "                     )\n",
        "\n",
        "    forecaster.train(setting).to(\"cpu\")\n",
        "    Yp_mean ,Y_test= forecaster.test(setting,test=True)\n",
        "\n",
        "\n",
        "    #Y_test = Dataset().inverse_transform(Y_test.reshape(-1, Y_test.shape[-1])).flatten()\n",
        "    #Yp_mean = Dataset().inverse_transform(Yp_mean.reshape(-1, Yp_mean.shape[-1])).flatten()\n",
        "    #print(\"Yp_mean\",Yp_mean)\n",
        "    #print(\"Y_test\",Y_test)\n",
        "\n",
        "    mae_validation = np.mean(MAE(Yp_mean, Y_test))\n",
        "    smape_validation = np.mean(sMAPE(Y_test, Yp_mean))*100\n",
        "    return_values = {'loss': mae_validation, 'MAE Val': mae_validation,'sMAPE Val': smape_validation,\n",
        "                     'status': STATUS_OK}\n",
        "\n",
        "    if trials.losses()[0] is not None:\n",
        "        MAEVal = trials.best_trial['result']['MAE Val']\n",
        "        sMAPEVal = trials.best_trial['result']['sMAPE Val']\n",
        "\n",
        "        print('\\n\\nTested {}/{} iterations.'.format(len(trials.losses()) - 1,\n",
        "              max_evals))\n",
        "        print('Best MAE - Validation Dataset')\n",
        "        print(\"  MAE: {:.1f} | sMAPE: {:.2f} %\".format(MAEVal, sMAPEVal))\n",
        "    return return_values\n",
        "\n",
        "def hyperparameter_optimizer(path_hyperparameters_folder=os.path.join('.', 'experimental_files'),\n",
        "                             new_hyperopt=1, max_evals=1500,\n",
        "                             experiment_id=None):\n",
        "\n",
        "    if not os.path.exists(path_hyperparameters_folder):\n",
        "        os.makedirs(path_hyperparameters_folder)\n",
        "    if experiment_id is None:\n",
        "        experiment_id = datetime.now().strftime(\"%d-%m-%Y_%H:%M:%S\")\n",
        "    else:\n",
        "        experiment_id = experiment_id\n",
        "    trials_file_name = 'DNN_hyperparameters_SP500_15m_try3'\n",
        "    trials_file_path = os.path.join(path_hyperparameters_folder, trials_file_name)\n",
        "    if new_hyperopt:\n",
        "        trials = Trials()\n",
        "    else:\n",
        "        trials = pc.load(open(trials_file_path, \"rb\"))\n",
        "    # n_exogenous_inputs = len(df.columns) - 1\n",
        "    space = _build_space()\n",
        "\n",
        "    fmin_objective = partial(_hyperopt_objective, trials=trials, trials_file_path=trials_file_path,\n",
        "                             max_evals=max_evals)\n",
        "    fmin(fmin_objective, space=space, algo=tpe.suggest, max_evals=max_evals, trials=trials, verbose=False)"
      ]
    },
    {
      "cell_type": "code",
      "execution_count": null,
      "metadata": {
        "colab": {
          "base_uri": "https://localhost:8080/"
        },
        "id": "LdZSRLlltdPJ",
        "outputId": "f4351c43-166a-49ff-c75a-3ed4852194ef"
      },
      "outputs": [
        {
          "output_type": "stream",
          "name": "stdout",
          "text": [
            "train 280656\n",
            "val 280656\n",
            "Epoch: 1\n",
            "Epoch: 1, Steps: 4000 | Train Loss: 0.0772203 Vali Loss: 0.1022037\n",
            "Validation loss decreased (inf --> 0.102204).  Saving model ...\n"
          ]
        }
      ],
      "source": [
        "new_hyperopt = 1#0.0065117\n",
        "experiment_id = 1\n",
        "max_evals = 1\n",
        "path_hyperparameters_folder = \"./experimental_files/\"\n",
        "hyperparameter_optimizer(path_hyperparameters_folder=path_hyperparameters_folder,\n",
        "                         new_hyperopt=new_hyperopt, max_evals=max_evals,\n",
        "                         experiment_id=experiment_id)#0.0814 di mae nell'articolo#0.0145(0.0037) MSE'''"
      ]
    },
    {
      "cell_type": "code",
      "execution_count": 29,
      "metadata": {
        "id": "Nd1eTsNhFp5A"
      },
      "outputs": [],
      "source": [
        "def MAE(pred, true):\n",
        "    return np.mean(np.abs(pred - true))\n",
        "\n",
        "\n",
        "def MSE(pred, true):\n",
        "    return np.mean((pred - true) ** 2)\n",
        "\n",
        "\n",
        "def RMSE(pred, true):\n",
        "    return np.sqrt(MSE(pred, true))\n",
        "\n",
        "\n",
        "def MAPE(pred, true):\n",
        "    return np.mean(np.abs((pred - true) / true))\n",
        "\n",
        "\n",
        "def MSPE(pred, true):\n",
        "    return np.mean(np.square((pred - true) / true))"
      ]
    },
    {
      "cell_type": "code",
      "execution_count": 30,
      "metadata": {
        "colab": {
          "base_uri": "https://localhost:8080/",
          "height": 1000
        },
        "id": "wMZeTujC9o2_",
        "outputId": "6cba3315-d00d-4277-917d-f4b5d222c59f"
      },
      "outputs": [
        {
          "output_type": "stream",
          "name": "stdout",
          "text": [
            "val 280656\n",
            "loading model\n",
            "test shape: (1000, 1) (1000, 1)\n",
            "test shape: (1000, 1) (1, 1000, 1)\n",
            "(1000, 1)\n",
            "(1, 1000, 1)\n",
            "MAE: 0.054 | MAPE: 28.689849 % | MSE: 0.005288\n",
            "MAE: 0.406 | MAPE: 45.5207 % | MSE: 0.3008\n"
          ]
        },
        {
          "output_type": "display_data",
          "data": {
            "text/plain": [
              "<Figure size 640x480 with 1 Axes>"
            ],
            "image/png": "[encoded data removed]"
          },
          "metadata": {}
        },
        {
          "output_type": "display_data",
          "data": {
            "text/plain": [
              "<Figure size 640x480 with 1 Axes>"
            ],
            "image/png": "[encoded data removed]"
          },
          "metadata": {}
        },
        {
          "output_type": "display_data",
          "data": {
            "text/plain": [
              "<Figure size 1000x500 with 1 Axes>"
            ],
            "image/png": "[encoded data removed]"
          },
          "metadata": {}
        },
        {
          "output_type": "stream",
          "name": "stdout",
          "text": [
            "media istogramma 0.16084094\n"
          ]
        }
      ],
      "source": [
        "label_len=0\n",
        "seq_len=20\n",
        "pred_len=6\n",
        "forecaster = DNNModel(batch_size=1)\n",
        "setting = '{}'.format('EMANUELE')\n",
        "Yp_mean ,Y_test= forecaster.vali_test(setting, test=True)\n",
        "Yp_mean =Yp_mean\n",
        "print(Yp_mean.shape)\n",
        "print(Y_test.shape)\n",
        "Y_test=Y_test\n",
        "data=Dataset(flag='val',size=[seq_len,label_len,pred_len],freq='10m')\n",
        "mae_validation = np.mean(MAE(Yp_mean, Y_test))\n",
        "mse_validation = np.mean(MSE(Yp_mean, Y_test))\n",
        "smape_validation = np.mean(MAPE(Y_test, Yp_mean))*100\n",
        "print(\"MAE: {:.3f} | MAPE: {:.6f} % | MSE: {:.6f}\".format(mae_validation, smape_validation,mse_validation))\n",
        "Y_test = data.inverse_transform((Y_test.reshape(-1, 1))).flatten()\n",
        "Yp_mean = data.inverse_transform((Yp_mean.reshape(-1, 1))).flatten()\n",
        "mae_validation = np.mean(MAE(Yp_mean, Y_test))\n",
        "mse_validation = np.mean(MSE(Yp_mean, Y_test))\n",
        "smape_validation = np.mean(MAPE(Y_test, Yp_mean))*100\n",
        "time = range(len(Y_test))\n",
        "print(\"MAE: {:.3f} | MAPE: {:.4f} % | MSE: {:.4f}\".format(mae_validation, smape_validation,mse_validation))\n",
        "plt.plot(time, Y_test.flatten(), color='blue', label='Valori Veri')\n",
        "plt.plot(time, Yp_mean.flatten(), color='red', label='Previsioni')\n",
        "plt.xlabel('Tempo')\n",
        "plt.ylabel('Temperaure')\n",
        "plt.legend()\n",
        "plt.show()\n",
        "differenza=np.abs(Yp_mean-Y_test).flatten()\n",
        "time = range(len(differenza))\n",
        "plt.plot(time, differenza, label='previsione-vero')\n",
        "plt.xlabel('Time')\n",
        "plt.ylabel('previsione-vero')\n",
        "plt.title('previsione-vero')\n",
        "plt.show()\n",
        "difference=(Yp_mean-Y_test).flatten()\n",
        "plt.figure(figsize=(10,5),dpi=100)\n",
        "plt.hist(difference,bins=100)\n",
        "plt.show()\n",
        "print(\"media istogramma\",np.mean(difference))"
      ]
    },
    {
      "cell_type": "code",
      "execution_count": null,
      "metadata": {
        "id": "_KGhqsPRFk7f"
      },
      "outputs": [],
      "source": []
    },
    {
      "cell_type": "code",
      "execution_count": null,
      "metadata": {
        "id": "iBwSCQNAC81b"
      },
      "outputs": [],
      "source": []
    },
    {
      "cell_type": "code",
      "execution_count": null,
      "metadata": {
        "id": "z83wUj79C81b"
      },
      "outputs": [],
      "source": []
    }
  ],
  "metadata": {
    "accelerator": "GPU",
    "colab": {
      "provenance": [],
      "include_colab_link": true
    },
    "kernelspec": {
      "display_name": "Python 3",
      "name": "python3"
    },
    "language_info": {
      "codemirror_mode": {
        "name": "ipython",
        "version": 3
      },
      "file_extension": ".py",
      "mimetype": "text/x-python",
      "name": "python",
      "nbconvert_exporter": "python",
      "pygments_lexer": "ipython3",
      "version": "3.10.12"
    }
  },
  "nbformat": 4,
  "nbformat_minor": 0
}