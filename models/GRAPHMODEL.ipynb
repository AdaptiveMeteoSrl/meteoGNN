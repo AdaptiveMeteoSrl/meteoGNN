{
  "nbformat": 4,
  "nbformat_minor": 0,
  "metadata": {
    "colab": {
      "provenance": []
    },
    "kernelspec": {
      "name": "python3",
      "display_name": "Python 3"
    },
    "language_info": {
      "name": "python"
    }
  },
  "cells": [
    {
      "cell_type": "code",
      "execution_count": null,
      "metadata": {
        "id": "TOQcZrOqervo"
      },
      "outputs": [],
      "source": [
        "class Model(nn.Module):\n",
        "    \"\"\"Modello Graph Convolutional seguito da una serie di Linear\"\"\"\n",
        "    def __init__(\n",
        "        self,\n",
        "        seq_len,\n",
        "        pred_len,\n",
        "        n_features,\n",
        "        batch_size,\n",
        "        hidden\n",
        "\n",
        "    ):\n",
        "        super(Model, self).__init__()\n",
        "        self.seq_len = seq_len\n",
        "        self.pred_len = pred_len\n",
        "        self.hidden = hidden\n",
        "        self.n_features = n_features\n",
        "        self.batch_size = batch_size\n",
        "        self.num_nodes=5\n",
        "\n",
        "        self.W1 = nn.Parameter(torch.rand((self.num_nodes, self.num_nodes, self.n_features, self.hidden), dtype=torch.float32))  #Una matrice di pesi per ogni interazione nodo-nodo\n",
        "        self.bias=nn.Parameter(torch.rand((self.seq_len, self.num_nodes, self.hidden), dtype=torch.float32))                     #L'interazione avviene soltanto fra nodi allo stesso tempo\n",
        "\n",
        "        self.nodes=nn.Linear(5,1)                                                                                                #Tre linear combinano le informazioni spaziali e temporali\n",
        "        self.feat=nn.Linear(self.hidden,1)\n",
        "        self.time=nn.Linear(self.seq_len,1)\n",
        "\n",
        "        self.device = \"cuda\" if torch.cuda.is_available() else \"cpu\"\n",
        "        self.to(self.device)\n",
        "\n",
        "    def forward(self, features, mask):\n",
        "        A = mask\n",
        "        features=features.reshape(self.batch_size,self.seq_len,self.num_nodes,self.n_features)\n",
        "        prodotto1=torch.matmul(A,features)\n",
        "        tutto = torch.einsum('ijkl,fklm->ijfm', prodotto1, self.W1)                           #Convoluzione\n",
        "        conv1= torch.relu(tutto+self.bias)\n",
        "        risultato = conv1\n",
        "        risultato=self.feat(risultato)\n",
        "        risultato=self.nodes(risultato.permute(0,1,3,2)).permute(0,1,3,2)\n",
        "        risultato=self.time(risultato.permute(0,2,3,1)).permute(0,2,3,1)\n",
        "\n",
        "        return risultato[:,-1,-1:,-1:]"
      ]
    }
  ]
}